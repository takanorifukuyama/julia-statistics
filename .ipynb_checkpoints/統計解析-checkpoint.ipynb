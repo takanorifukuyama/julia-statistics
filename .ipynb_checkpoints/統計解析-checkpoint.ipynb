{
 "cells": [
  {
   "cell_type": "markdown",
   "metadata": {},
   "source": [
    "$x^2$検定は、二つの割合の値が同じかどうか判断するための検定  \n",
    "工業地帯と自然豊かな地方とで、てんとう虫の色を調べたデータを$x^2$検定で解析  \n",
    "データファイルは`ladybirds_morph_colour.csv`"
   ]
  },
  {
   "cell_type": "code",
   "execution_count": 9,
   "metadata": {},
   "outputs": [
    {
     "name": "stderr",
     "output_type": "stream",
     "text": [
      "\u001b[32m\u001b[1m  Resolving\u001b[22m\u001b[39m package versions...\n",
      "\u001b[32m\u001b[1mNo Changes\u001b[22m\u001b[39m to `~/.julia/environments/v1.5/Project.toml`\n",
      "\u001b[32m\u001b[1mNo Changes\u001b[22m\u001b[39m to `~/.julia/environments/v1.5/Manifest.toml`\n",
      "\u001b[32m\u001b[1m  Resolving\u001b[22m\u001b[39m package versions...\n",
      "\u001b[32m\u001b[1mNo Changes\u001b[22m\u001b[39m to `~/.julia/environments/v1.5/Project.toml`\n",
      "\u001b[32m\u001b[1mNo Changes\u001b[22m\u001b[39m to `~/.julia/environments/v1.5/Manifest.toml`\n",
      "\u001b[32m\u001b[1m  Resolving\u001b[22m\u001b[39m package versions...\n",
      "\u001b[32m\u001b[1mNo Changes\u001b[22m\u001b[39m to `~/.julia/environments/v1.5/Project.toml`\n",
      "\u001b[32m\u001b[1mNo Changes\u001b[22m\u001b[39m to `~/.julia/environments/v1.5/Manifest.toml`\n",
      "\u001b[32m\u001b[1m  Resolving\u001b[22m\u001b[39m package versions...\n",
      "\u001b[32m\u001b[1m  Installed\u001b[22m\u001b[39m DataFramesMeta ─ v0.6.0\n",
      "\u001b[32m\u001b[1mUpdating\u001b[22m\u001b[39m `~/.julia/environments/v1.5/Project.toml`\n",
      " \u001b[90m [1313f7d8] \u001b[39m\u001b[92m+ DataFramesMeta v0.6.0\u001b[39m\n",
      "\u001b[32m\u001b[1mUpdating\u001b[22m\u001b[39m `~/.julia/environments/v1.5/Manifest.toml`\n",
      " \u001b[90m [1313f7d8] \u001b[39m\u001b[92m+ DataFramesMeta v0.6.0\u001b[39m\n",
      "\u001b[32m\u001b[1m  Resolving\u001b[22m\u001b[39m package versions...\n",
      "\u001b[32m\u001b[1mNo Changes\u001b[22m\u001b[39m to `~/.julia/environments/v1.5/Project.toml`\n",
      "\u001b[32m\u001b[1mNo Changes\u001b[22m\u001b[39m to `~/.julia/environments/v1.5/Manifest.toml`\n",
      "\u001b[32m\u001b[1m  Resolving\u001b[22m\u001b[39m package versions...\n",
      "\u001b[32m\u001b[1mNo Changes\u001b[22m\u001b[39m to `~/.julia/environments/v1.5/Project.toml`\n",
      "\u001b[32m\u001b[1mNo Changes\u001b[22m\u001b[39m to `~/.julia/environments/v1.5/Manifest.toml`\n",
      "\u001b[32m\u001b[1m  Resolving\u001b[22m\u001b[39m package versions...\n",
      "\u001b[32m\u001b[1mNo Changes\u001b[22m\u001b[39m to `~/.julia/environments/v1.5/Project.toml`\n",
      "\u001b[32m\u001b[1mNo Changes\u001b[22m\u001b[39m to `~/.julia/environments/v1.5/Manifest.toml`\n",
      "\u001b[32m\u001b[1m  Resolving\u001b[22m\u001b[39m package versions...\n",
      "\u001b[32m\u001b[1mNo Changes\u001b[22m\u001b[39m to `~/.julia/environments/v1.5/Project.toml`\n",
      "\u001b[32m\u001b[1mNo Changes\u001b[22m\u001b[39m to `~/.julia/environments/v1.5/Manifest.toml`\n"
     ]
    }
   ],
   "source": [
    "import Pkg; Pkg.add(\"CSV\"); Pkg.add(\"Gadfly\"); Pkg.add(\"DataFrames\"); Pkg.add(\"DataFramesMeta\"); Pkg.add(\"Statistics\"); Pkg.add(\"HypothesisTests\"); Pkg.add(\"Cairo\");Pkg.add(\"Fontconfig\");"
   ]
  },
  {
   "cell_type": "code",
   "execution_count": 28,
   "metadata": {},
   "outputs": [
    {
     "data": {
      "text/html": [
       "<table class=\"data-frame\"><thead><tr><th></th><th>Habitat</th><th>Site</th><th>morph_colour</th><th>number</th></tr><tr><th></th><th>String</th><th>String</th><th>String</th><th>Int64</th></tr></thead><tbody><p>20 rows × 4 columns</p><tr><th>1</th><td>Rural</td><td>R1</td><td>black</td><td>10</td></tr><tr><th>2</th><td>Rural</td><td>R2</td><td>black</td><td>3</td></tr><tr><th>3</th><td>Rural</td><td>R3</td><td>black</td><td>4</td></tr><tr><th>4</th><td>Rural</td><td>R4</td><td>black</td><td>7</td></tr><tr><th>5</th><td>Rural</td><td>R5</td><td>black</td><td>6</td></tr><tr><th>6</th><td>Rural</td><td>R1</td><td>red</td><td>15</td></tr><tr><th>7</th><td>Rural</td><td>R2</td><td>red</td><td>18</td></tr><tr><th>8</th><td>Rural</td><td>R3</td><td>red</td><td>9</td></tr><tr><th>9</th><td>Rural</td><td>R4</td><td>red</td><td>12</td></tr><tr><th>10</th><td>Rural</td><td>R5</td><td>red</td><td>16</td></tr><tr><th>11</th><td>Industrial</td><td>U1</td><td>black</td><td>32</td></tr><tr><th>12</th><td>Industrial</td><td>U2</td><td>black</td><td>25</td></tr><tr><th>13</th><td>Industrial</td><td>U3</td><td>black</td><td>25</td></tr><tr><th>14</th><td>Industrial</td><td>U4</td><td>black</td><td>17</td></tr><tr><th>15</th><td>Industrial</td><td>U5</td><td>black</td><td>16</td></tr><tr><th>16</th><td>Industrial</td><td>U1</td><td>red</td><td>17</td></tr><tr><th>17</th><td>Industrial</td><td>U2</td><td>red</td><td>23</td></tr><tr><th>18</th><td>Industrial</td><td>U3</td><td>red</td><td>21</td></tr><tr><th>19</th><td>Industrial</td><td>U4</td><td>red</td><td>9</td></tr><tr><th>20</th><td>Industrial</td><td>U5</td><td>red</td><td>15</td></tr></tbody></table>"
      ],
      "text/latex": [
       "\\begin{tabular}{r|cccc}\n",
       "\t& Habitat & Site & morph\\_colour & number\\\\\n",
       "\t\\hline\n",
       "\t& String & String & String & Int64\\\\\n",
       "\t\\hline\n",
       "\t1 & Rural & R1 & black & 10 \\\\\n",
       "\t2 & Rural & R2 & black & 3 \\\\\n",
       "\t3 & Rural & R3 & black & 4 \\\\\n",
       "\t4 & Rural & R4 & black & 7 \\\\\n",
       "\t5 & Rural & R5 & black & 6 \\\\\n",
       "\t6 & Rural & R1 & red & 15 \\\\\n",
       "\t7 & Rural & R2 & red & 18 \\\\\n",
       "\t8 & Rural & R3 & red & 9 \\\\\n",
       "\t9 & Rural & R4 & red & 12 \\\\\n",
       "\t10 & Rural & R5 & red & 16 \\\\\n",
       "\t11 & Industrial & U1 & black & 32 \\\\\n",
       "\t12 & Industrial & U2 & black & 25 \\\\\n",
       "\t13 & Industrial & U3 & black & 25 \\\\\n",
       "\t14 & Industrial & U4 & black & 17 \\\\\n",
       "\t15 & Industrial & U5 & black & 16 \\\\\n",
       "\t16 & Industrial & U1 & red & 17 \\\\\n",
       "\t17 & Industrial & U2 & red & 23 \\\\\n",
       "\t18 & Industrial & U3 & red & 21 \\\\\n",
       "\t19 & Industrial & U4 & red & 9 \\\\\n",
       "\t20 & Industrial & U5 & red & 15 \\\\\n",
       "\\end{tabular}\n"
      ],
      "text/plain": [
       "\u001b[1m20×4 DataFrame\u001b[0m\n",
       "\u001b[1m Row \u001b[0m│\u001b[1m Habitat    \u001b[0m\u001b[1m Site   \u001b[0m\u001b[1m morph_colour \u001b[0m\u001b[1m number \u001b[0m\n",
       "\u001b[1m     \u001b[0m│\u001b[90m String     \u001b[0m\u001b[90m String \u001b[0m\u001b[90m String       \u001b[0m\u001b[90m Int64  \u001b[0m\n",
       "─────┼──────────────────────────────────────────\n",
       "   1 │ Rural       R1      black             10\n",
       "   2 │ Rural       R2      black              3\n",
       "   3 │ Rural       R3      black              4\n",
       "   4 │ Rural       R4      black              7\n",
       "   5 │ Rural       R5      black              6\n",
       "   6 │ Rural       R1      red               15\n",
       "   7 │ Rural       R2      red               18\n",
       "   8 │ Rural       R3      red                9\n",
       "   9 │ Rural       R4      red               12\n",
       "  10 │ Rural       R5      red               16\n",
       "  11 │ Industrial  U1      black             32\n",
       "  12 │ Industrial  U2      black             25\n",
       "  13 │ Industrial  U3      black             25\n",
       "  14 │ Industrial  U4      black             17\n",
       "  15 │ Industrial  U5      black             16\n",
       "  16 │ Industrial  U1      red               17\n",
       "  17 │ Industrial  U2      red               23\n",
       "  18 │ Industrial  U3      red               21\n",
       "  19 │ Industrial  U4      red                9\n",
       "  20 │ Industrial  U5      red               15"
      ]
     },
     "execution_count": 28,
     "metadata": {},
     "output_type": "execute_result"
    }
   ],
   "source": [
    "using CSV, Gadfly, DataFrames, DataFramesMeta, Statistics, HypothesisTests, Cairo, Fontconfig\n",
    "\n",
    "dat = CSV.read(\"./datasets/ladybirds_morph_colour.csv\", DataFrame)\n",
    "\n",
    "dat"
   ]
  },
  {
   "cell_type": "code",
   "execution_count": 29,
   "metadata": {},
   "outputs": [
    {
     "data": {
      "text/html": [
       "<table class=\"data-frame\"><thead><tr><th></th><th>variable</th><th>mean</th><th>min</th><th>median</th><th>max</th><th>nmissing</th><th>eltype</th></tr><tr><th></th><th>Symbol</th><th>Union…</th><th>Any</th><th>Union…</th><th>Any</th><th>Int64</th><th>DataType</th></tr></thead><tbody><p>4 rows × 7 columns</p><tr><th>1</th><td>Habitat</td><td></td><td>Industrial</td><td></td><td>Rural</td><td>0</td><td>String</td></tr><tr><th>2</th><td>Site</td><td></td><td>R1</td><td></td><td>U5</td><td>0</td><td>String</td></tr><tr><th>3</th><td>morph_colour</td><td></td><td>black</td><td></td><td>red</td><td>0</td><td>String</td></tr><tr><th>4</th><td>number</td><td>15.0</td><td>3</td><td>15.5</td><td>32</td><td>0</td><td>Int64</td></tr></tbody></table>"
      ],
      "text/latex": [
       "\\begin{tabular}{r|ccccccc}\n",
       "\t& variable & mean & min & median & max & nmissing & eltype\\\\\n",
       "\t\\hline\n",
       "\t& Symbol & Union… & Any & Union… & Any & Int64 & DataType\\\\\n",
       "\t\\hline\n",
       "\t1 & Habitat &  & Industrial &  & Rural & 0 & String \\\\\n",
       "\t2 & Site &  & R1 &  & U5 & 0 & String \\\\\n",
       "\t3 & morph\\_colour &  & black &  & red & 0 & String \\\\\n",
       "\t4 & number & 15.0 & 3 & 15.5 & 32 & 0 & Int64 \\\\\n",
       "\\end{tabular}\n"
      ],
      "text/plain": [
       "\u001b[1m4×7 DataFrame\u001b[0m\n",
       "\u001b[1m Row \u001b[0m│\u001b[1m variable     \u001b[0m\u001b[1m mean   \u001b[0m\u001b[1m min        \u001b[0m\u001b[1m median \u001b[0m\u001b[1m max   \u001b[0m\u001b[1m nmissing \u001b[0m\u001b[1m eltype   \u001b[0m\n",
       "\u001b[1m     \u001b[0m│\u001b[90m Symbol       \u001b[0m\u001b[90m Union… \u001b[0m\u001b[90m Any        \u001b[0m\u001b[90m Union… \u001b[0m\u001b[90m Any   \u001b[0m\u001b[90m Int64    \u001b[0m\u001b[90m DataType \u001b[0m\n",
       "─────┼─────────────────────────────────────────────────────────────────────\n",
       "   1 │ Habitat      \u001b[90m        \u001b[0m Industrial \u001b[90m        \u001b[0m Rural         0  String\n",
       "   2 │ Site         \u001b[90m        \u001b[0m R1         \u001b[90m        \u001b[0m U5            0  String\n",
       "   3 │ morph_colour \u001b[90m        \u001b[0m black      \u001b[90m        \u001b[0m red           0  String\n",
       "   4 │ number        15.0    3           15.5    32            0  Int64"
      ]
     },
     "execution_count": 29,
     "metadata": {},
     "output_type": "execute_result"
    }
   ],
   "source": [
    "# 要約統計量\n",
    "describe(dat)"
   ]
  },
  {
   "cell_type": "code",
   "execution_count": 30,
   "metadata": {},
   "outputs": [
    {
     "ename": "LoadError",
     "evalue": "MethodError: no method matching combine(::GroupedDataFrame{DataFrame}; lady=:number => sum)\nClosest candidates are:\n  combine(::GroupedDataFrame, !Matched::Union{Regex, AbstractString, Function, Signed, Symbol, Unsigned, Pair, AbstractArray{T,1} where T, Type, All, Between, Cols, InvertedIndex}...; keepkeys, ungroup, renamecols) at /Users/takanorifukuyama/.julia/packages/DataFrames/yqToF/src/groupeddataframe/splitapplycombine.jl:638 got unsupported keyword argument \"lady\"\n  combine(!Matched::AbstractDataFrame, !Matched::Any...; renamecols) at /Users/takanorifukuyama/.julia/packages/DataFrames/yqToF/src/abstractdataframe/selection.jl:1166 got unsupported keyword argument \"lady\"\n  combine(!Matched::Union{Function, Type}, !Matched::AbstractDataFrame; renamecols) at /Users/takanorifukuyama/.julia/packages/DataFrames/yqToF/src/abstractdataframe/selection.jl:1169 got unsupported keyword argument \"lady\"\n  ...",
     "output_type": "error",
     "traceback": [
      "MethodError: no method matching combine(::GroupedDataFrame{DataFrame}; lady=:number => sum)\nClosest candidates are:\n  combine(::GroupedDataFrame, !Matched::Union{Regex, AbstractString, Function, Signed, Symbol, Unsigned, Pair, AbstractArray{T,1} where T, Type, All, Between, Cols, InvertedIndex}...; keepkeys, ungroup, renamecols) at /Users/takanorifukuyama/.julia/packages/DataFrames/yqToF/src/groupeddataframe/splitapplycombine.jl:638 got unsupported keyword argument \"lady\"\n  combine(!Matched::AbstractDataFrame, !Matched::Any...; renamecols) at /Users/takanorifukuyama/.julia/packages/DataFrames/yqToF/src/abstractdataframe/selection.jl:1166 got unsupported keyword argument \"lady\"\n  combine(!Matched::Union{Function, Type}, !Matched::AbstractDataFrame; renamecols) at /Users/takanorifukuyama/.julia/packages/DataFrames/yqToF/src/abstractdataframe/selection.jl:1169 got unsupported keyword argument \"lady\"\n  ...",
      "",
      "Stacktrace:",
      " [1] kwerr(::NamedTuple{(:lady,),Tuple{Pair{Symbol,typeof(sum)}}}, ::Function, ::GroupedDataFrame{DataFrame}) at ./error.jl:157",
      " [2] top-level scope at In[30]:1",
      " [3] include_string(::Function, ::Module, ::String, ::String) at ./loading.jl:1091"
     ]
    }
   ],
   "source": [
    "combine(groupby(dat, [:Habitat, :morph_colour]), :number => sum)"
   ]
  },
  {
   "cell_type": "code",
   "execution_count": null,
   "metadata": {},
   "outputs": [],
   "source": [
    "# 順に地域別平均値・個体数・地域色別平均値・分散\n",
    "combine(groupby(dat, :Habitat), :number => mean)\n",
    "combine(dat, [:Habitat, :morph_colour], lady = :number => sum)\n",
    "by(dat, [:Habitat, :morph_colour], lady = :number => mean)\n",
    "by(dat, [:Habitat, :morph_colour], lady = :number => var)\n",
    "\n",
    "draw(PDF(\"fig/ladybird_1.pdf\", 10cm, 8cm),\n",
    "     plot(dat, y = :number, Geom.bar))\n",
    "draw(PDF(\"fig/ladybird_2.pdf\", 10cm, 8cm),\n",
    "     plot(dat, x = :morph_colour, y = :number, Geom.bar))"
   ]
  }
 ],
 "metadata": {
  "kernelspec": {
   "display_name": "Julia 1.5.3",
   "language": "julia",
   "name": "julia-1.5"
  },
  "language_info": {
   "file_extension": ".jl",
   "mimetype": "application/julia",
   "name": "julia",
   "version": "1.5.3"
  }
 },
 "nbformat": 4,
 "nbformat_minor": 4
}
